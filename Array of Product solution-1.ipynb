{
 "cells": [
  {
   "cell_type": "code",
   "execution_count": null,
   "id": "e6d950ec",
   "metadata": {},
   "outputs": [],
   "source": [
    "def arrayOfProducts(array):\n",
    "    # Write your code here.\n",
    "    leftprod = [1] * len(array)\n",
    "    rightprod = [1] * len(array)\n",
    "    prod = [1] * len(array)\n",
    "    i = 0\n",
    "    for i in range(1, len(array)):\n",
    "        leftprod[i] = leftprod[i-1] * array[i-1]\n",
    "    for j in range(len(array)-2, -1, -1):\n",
    "        rightprod[j] = rightprod[j+1] * array[j+1]\n",
    "\n",
    "    for k in range(len(array)):\n",
    "        prod[k] = leftprod[k] * rightprod[k]\n",
    "        \n",
    "    return prod\n"
   ]
  }
 ],
 "metadata": {
  "kernelspec": {
   "display_name": "Python 3 (ipykernel)",
   "language": "python",
   "name": "python3"
  },
  "language_info": {
   "codemirror_mode": {
    "name": "ipython",
    "version": 3
   },
   "file_extension": ".py",
   "mimetype": "text/x-python",
   "name": "python",
   "nbconvert_exporter": "python",
   "pygments_lexer": "ipython3",
   "version": "3.9.12"
  }
 },
 "nbformat": 4,
 "nbformat_minor": 5
}
