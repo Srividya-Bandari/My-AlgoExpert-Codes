{
 "cells": [
  {
   "cell_type": "code",
   "execution_count": null,
   "id": "fef5535a",
   "metadata": {},
   "outputs": [],
   "source": [
    "def arrayOfProducts(array):\n",
    "    # Write your code here.\n",
    "    leftprod = [1] * len(array)\n",
    "    rightprod = 1\n",
    "    \n",
    "    i = 0\n",
    "    for i in range(1, len(array)):\n",
    "        leftprod[i] = leftprod[i-1] * array[i-1]\n",
    "    for j in range(len(array)-1, -1, -1):\n",
    "        leftprod[j] = rightprod * leftprod[j]\n",
    "        rightprod = array[j] * rightprod\n",
    "    \n",
    "    return leftprod\n"
   ]
  }
 ],
 "metadata": {
  "kernelspec": {
   "display_name": "Python 3 (ipykernel)",
   "language": "python",
   "name": "python3"
  },
  "language_info": {
   "codemirror_mode": {
    "name": "ipython",
    "version": 3
   },
   "file_extension": ".py",
   "mimetype": "text/x-python",
   "name": "python",
   "nbconvert_exporter": "python",
   "pygments_lexer": "ipython3",
   "version": "3.9.12"
  }
 },
 "nbformat": 4,
 "nbformat_minor": 5
}
