{
 "cells": [
  {
   "cell_type": "code",
   "execution_count": null,
   "id": "d2ba4304",
   "metadata": {},
   "outputs": [],
   "source": [
    "def firstDuplicateValue(array):\n",
    "    # Write your code here.\n",
    "    HM = {}\n",
    "    for idx in range(len(array)):\n",
    "        if array[idx] not in HM:\n",
    "            HM[array[idx]] = idx\n",
    "        else:\n",
    "            return array[idx]\n",
    "    return -1\n"
   ]
  }
 ],
 "metadata": {
  "kernelspec": {
   "display_name": "Python 3 (ipykernel)",
   "language": "python",
   "name": "python3"
  },
  "language_info": {
   "codemirror_mode": {
    "name": "ipython",
    "version": 3
   },
   "file_extension": ".py",
   "mimetype": "text/x-python",
   "name": "python",
   "nbconvert_exporter": "python",
   "pygments_lexer": "ipython3",
   "version": "3.9.12"
  }
 },
 "nbformat": 4,
 "nbformat_minor": 5
}
