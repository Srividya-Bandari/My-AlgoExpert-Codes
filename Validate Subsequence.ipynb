{
 "cells": [
  {
   "cell_type": "code",
   "execution_count": null,
   "id": "a9c2462d",
   "metadata": {},
   "outputs": [],
   "source": [
    "def isValidSubsequence(array, sequence):\n",
    "    # Write your code here.\n",
    "    val1 = 0\n",
    "    val2 = 0\n",
    "    \n",
    "    while val1 < len(array) and val2 < len(sequence):\n",
    "            if array[val1] == sequence[val2]:\n",
    "                val2 += 1\n",
    "            val1 += 1\n",
    "\n",
    "    return val2 == len(sequence)\n",
    "        \n",
    "    \n",
    "                \n"
   ]
  }
 ],
 "metadata": {
  "kernelspec": {
   "display_name": "Python 3 (ipykernel)",
   "language": "python",
   "name": "python3"
  },
  "language_info": {
   "codemirror_mode": {
    "name": "ipython",
    "version": 3
   },
   "file_extension": ".py",
   "mimetype": "text/x-python",
   "name": "python",
   "nbconvert_exporter": "python",
   "pygments_lexer": "ipython3",
   "version": "3.9.12"
  }
 },
 "nbformat": 4,
 "nbformat_minor": 5
}
