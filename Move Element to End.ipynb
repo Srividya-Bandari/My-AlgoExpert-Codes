{
 "cells": [
  {
   "cell_type": "code",
   "execution_count": null,
   "id": "6f590df3",
   "metadata": {},
   "outputs": [],
   "source": [
    "def moveElementToEnd(array, toMove):\n",
    "    # Write your code here.\n",
    "    i,j = 0, len(array)-1\n",
    "    while i < j:\n",
    "        while i < j and array[j] == toMove:\n",
    "            j -= 1\n",
    "        if array[i] == toMove:\n",
    "            array[i], array[j] = array[j], array[i]\n",
    "            j -= 1\n",
    "        i += 1\n",
    "        \n",
    "    return array"
   ]
  }
 ],
 "metadata": {
  "kernelspec": {
   "display_name": "Python 3 (ipykernel)",
   "language": "python",
   "name": "python3"
  },
  "language_info": {
   "codemirror_mode": {
    "name": "ipython",
    "version": 3
   },
   "file_extension": ".py",
   "mimetype": "text/x-python",
   "name": "python",
   "nbconvert_exporter": "python",
   "pygments_lexer": "ipython3",
   "version": "3.9.12"
  }
 },
 "nbformat": 4,
 "nbformat_minor": 5
}
