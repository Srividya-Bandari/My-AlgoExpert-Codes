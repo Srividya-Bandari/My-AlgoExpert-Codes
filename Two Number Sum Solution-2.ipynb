{
 "cells": [
  {
   "cell_type": "code",
   "execution_count": null,
   "id": "05ef4f49",
   "metadata": {},
   "outputs": [],
   "source": [
    "def twoNumberSum(array, targetSum):\n",
    "    # Write your code here.\n",
    "\tHM = {}\n",
    "\tfor i in range (0, len(array)):\n",
    "\t\tD = targetSum - array[i]\n",
    "\t\tif D not in HM:\n",
    "\t\t\tHM[array[i]] = i\n",
    "\t\telse:\n",
    "\t\t\treturn [array[i], D]\n",
    "\treturn []\t\t\n",
    "\t\n",
    "    \n"
   ]
  }
 ],
 "metadata": {
  "kernelspec": {
   "display_name": "Python 3 (ipykernel)",
   "language": "python",
   "name": "python3"
  },
  "language_info": {
   "codemirror_mode": {
    "name": "ipython",
    "version": 3
   },
   "file_extension": ".py",
   "mimetype": "text/x-python",
   "name": "python",
   "nbconvert_exporter": "python",
   "pygments_lexer": "ipython3",
   "version": "3.9.12"
  }
 },
 "nbformat": 4,
 "nbformat_minor": 5
}
