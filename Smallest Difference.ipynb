{
 "cells": [
  {
   "cell_type": "code",
   "execution_count": null,
   "id": "59e75f48",
   "metadata": {},
   "outputs": [],
   "source": [
    "def smallestDifference(arrayOne, arrayTwo):\n",
    "    # Write your code here.\n",
    "    arrayOne.sort()\n",
    "    arrayTwo.sort()\n",
    "    minVal = float(\"inf\")\n",
    "    i, j = 0, 0\n",
    "    while i < len(arrayOne) and j < len(arrayTwo):\n",
    "        firstnum = arrayOne[i]\n",
    "        secondnum = arrayTwo[j]\n",
    "        if firstnum < secondnum:\n",
    "            diff = secondnum - firstnum\n",
    "            i += 1\n",
    "        elif secondnum < firstnum:\n",
    "            diff = firstnum - secondnum\n",
    "            j += 1\n",
    "        else:\n",
    "            return [firstnum, secondnum]\n",
    "        if minVal > diff:\n",
    "            minVal = diff\n",
    "            firstval = firstnum\n",
    "            secondval = secondnum\n",
    "    return [firstval, secondval]\n"
   ]
  }
 ],
 "metadata": {
  "kernelspec": {
   "display_name": "Python 3 (ipykernel)",
   "language": "python",
   "name": "python3"
  },
  "language_info": {
   "codemirror_mode": {
    "name": "ipython",
    "version": 3
   },
   "file_extension": ".py",
   "mimetype": "text/x-python",
   "name": "python",
   "nbconvert_exporter": "python",
   "pygments_lexer": "ipython3",
   "version": "3.9.12"
  }
 },
 "nbformat": 4,
 "nbformat_minor": 5
}
