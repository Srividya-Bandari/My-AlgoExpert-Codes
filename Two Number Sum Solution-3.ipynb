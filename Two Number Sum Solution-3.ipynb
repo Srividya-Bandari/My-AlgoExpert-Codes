{
 "cells": [
  {
   "cell_type": "code",
   "execution_count": null,
   "id": "0a07772b",
   "metadata": {},
   "outputs": [],
   "source": [
    "def twoNumberSum(array, targetSum):\n",
    "    # Write your code here.\n",
    "    array.sort()\n",
    "    i = 0\n",
    "    j = len(array)-1\n",
    "    while i < j:\n",
    "        if array[i] + array[j] == targetSum:\n",
    "            return [array[i], array[j]]\n",
    "        elif array[i] + array[j] > targetSum:\n",
    "            j -= 1\n",
    "        else:\n",
    "            i += 1\n",
    "    return []\n"
   ]
  }
 ],
 "metadata": {
  "kernelspec": {
   "display_name": "Python 3 (ipykernel)",
   "language": "python",
   "name": "python3"
  },
  "language_info": {
   "codemirror_mode": {
    "name": "ipython",
    "version": 3
   },
   "file_extension": ".py",
   "mimetype": "text/x-python",
   "name": "python",
   "nbconvert_exporter": "python",
   "pygments_lexer": "ipython3",
   "version": "3.9.12"
  }
 },
 "nbformat": 4,
 "nbformat_minor": 5
}
