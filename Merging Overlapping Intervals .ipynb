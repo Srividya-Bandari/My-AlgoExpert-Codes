{
 "cells": [
  {
   "cell_type": "code",
   "execution_count": null,
   "id": "a763f82a",
   "metadata": {},
   "outputs": [],
   "source": [
    "def mergeOverlappingIntervals(intervals):\n",
    "    # Write your code here.\n",
    "    intervals.sort(key = lambda i : i[0])\n",
    "    outarray = [intervals[0]]\n",
    "    for start, end in intervals[1:]:\n",
    "        if outarray[-1][1] >= start:\n",
    "            outarray[-1][1] = max(end, outarray[-1][1])\n",
    "        else:\n",
    "            outarray.append([start, end])\n",
    "    return outarray\n",
    "            \n"
   ]
  }
 ],
 "metadata": {
  "kernelspec": {
   "display_name": "Python 3 (ipykernel)",
   "language": "python",
   "name": "python3"
  },
  "language_info": {
   "codemirror_mode": {
    "name": "ipython",
    "version": 3
   },
   "file_extension": ".py",
   "mimetype": "text/x-python",
   "name": "python",
   "nbconvert_exporter": "python",
   "pygments_lexer": "ipython3",
   "version": "3.9.12"
  }
 },
 "nbformat": 4,
 "nbformat_minor": 5
}
