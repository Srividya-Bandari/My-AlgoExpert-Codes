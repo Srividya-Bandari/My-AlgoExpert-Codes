{
 "cells": [
  {
   "cell_type": "code",
   "execution_count": null,
   "id": "57b3830d",
   "metadata": {},
   "outputs": [],
   "source": [
    "def twoNumberSum(array, targetSum):\n",
    "    # Write your code here.\n",
    "\tfor i in range (0, len(array)-1):\n",
    "\t\tfor j in range (i+1, len(array)):\n",
    "\t\t\tif array[i] + array[j] == targetSum:\n",
    "\t\t\t\treturn [array[i], array[j]]\n",
    "\t\t\t\n",
    "\treturn []\n",
    "   \n"
   ]
  }
 ],
 "metadata": {
  "kernelspec": {
   "display_name": "Python 3 (ipykernel)",
   "language": "python",
   "name": "python3"
  },
  "language_info": {
   "codemirror_mode": {
    "name": "ipython",
    "version": 3
   },
   "file_extension": ".py",
   "mimetype": "text/x-python",
   "name": "python",
   "nbconvert_exporter": "python",
   "pygments_lexer": "ipython3",
   "version": "3.9.12"
  }
 },
 "nbformat": 4,
 "nbformat_minor": 5
}
