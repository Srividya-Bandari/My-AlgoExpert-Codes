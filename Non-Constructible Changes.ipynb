{
 "cells": [
  {
   "cell_type": "code",
   "execution_count": null,
   "id": "8bd53cca",
   "metadata": {},
   "outputs": [],
   "source": [
    "def nonConstructibleChange(coins):\n",
    "    # Write your code here.\n",
    "    coins.sort()\n",
    "    change = 0\n",
    "    for coin in coins:\n",
    "        if coin > change + 1:\n",
    "            return change + 1\n",
    "        change += coin\n",
    "    return change + 1\n",
    "            \n",
    "            \n",
    "    \n"
   ]
  }
 ],
 "metadata": {
  "kernelspec": {
   "display_name": "Python 3 (ipykernel)",
   "language": "python",
   "name": "python3"
  },
  "language_info": {
   "codemirror_mode": {
    "name": "ipython",
    "version": 3
   },
   "file_extension": ".py",
   "mimetype": "text/x-python",
   "name": "python",
   "nbconvert_exporter": "python",
   "pygments_lexer": "ipython3",
   "version": "3.9.12"
  }
 },
 "nbformat": 4,
 "nbformat_minor": 5
}
